{
 "cells": [
  {
   "cell_type": "code",
   "execution_count": 3,
   "id": "88208f42-2068-4204-bca5-ab9c04a159a0",
   "metadata": {},
   "outputs": [],
   "source": [
    "import numpy as np"
   ]
  },
  {
   "cell_type": "code",
   "execution_count": 4,
   "id": "ee3e8923-a0e3-45f4-b106-6f1037e242ec",
   "metadata": {},
   "outputs": [
    {
     "name": "stdout",
     "output_type": "stream",
     "text": [
      "1.26.4\n"
     ]
    }
   ],
   "source": [
    "print(np.__version__)"
   ]
  },
  {
   "cell_type": "markdown",
   "id": "a67e33a2-69ce-4369-b6bd-2ced5ae907ce",
   "metadata": {},
   "source": [
    "### Numpy\n",
    "- 머신러닝 애플리케이션에서 데이터 추출, 가공, 변환과 같은 데이터 처리 부분을 담당한다.\n",
    "- 넘파이 기반의 사이킷런을 이해하기 위해서는 넘파이는 필수이다.\n",
    "- 사이킷런은 직관적이고 간결하기 때문에 상대적으로 개발하기 쉽지만 넘파이는 양도 많고 배울 것도 많다.\n",
    "- 넘파이 전체를 다 이해하고 공부하는 것은 머신러닝을 포기하게 만들기 때문에, 기본 문법과 중요 API만 이해하는 것이 전략적으로 좋다."
   ]
  },
  {
   "cell_type": "markdown",
   "id": "f26836aa-4815-489f-a001-064f986b94b5",
   "metadata": {},
   "source": [
    "#### ndarray\n",
    "- N차원(n-dimension) 배열 객체이다.\n",
    "- 파이썬 list를 array() 메소드에 전달하면 ndarray로 변환되고 넘파이의 다양하고 편리한 기능들을 사용할 수 있게 된다.\n",
    "- 반드시 같은 자료형의 데이터만 담아야 한다.\n",
    "\n",
    "<img src=\"./images/numpy1.png\" width=\"400px\" style=\"margin-left: 10px\">"
   ]
  },
  {
   "cell_type": "code",
   "execution_count": 5,
   "id": "f94107f4-f3c4-4181-9ba9-cd1328d54c34",
   "metadata": {},
   "outputs": [],
   "source": [
    "import numpy as np"
   ]
  },
  {
   "cell_type": "code",
   "execution_count": 8,
   "id": "b7e779e9-6fb7-4bc4-a5a3-2cdb63b72c83",
   "metadata": {},
   "outputs": [
    {
     "name": "stdout",
     "output_type": "stream",
     "text": [
      "<class 'numpy.ndarray'>\n",
      "[1 2 3]\n",
      "==============================\n",
      "(3,) [1 2 3]\n",
      "1\n"
     ]
    }
   ],
   "source": [
    "ndarray1 = np.array([1, 2, 3])\n",
    "print(type(ndarray1), ndarray1, sep=\"\\n\")\n",
    "\n",
    "print(\"=\" * 30)\n",
    "\n",
    "# shape: 차원을 개수\n",
    "print(ndarray1.shape, ndarray1)\n",
    "# ndim: 차원을 나타낸다.\n",
    "print(ndarray1.ndim)"
   ]
  },
  {
   "cell_type": "code",
   "execution_count": 10,
   "id": "d1484207-d521-477b-9046-c2d485b60a6d",
   "metadata": {},
   "outputs": [
    {
     "name": "stdout",
     "output_type": "stream",
     "text": [
      "<class 'numpy.ndarray'>\n",
      "[[1 2 3]\n",
      " [4 5 6]]\n",
      "(2, 3)\n"
     ]
    }
   ],
   "source": [
    "# 아래의 2차원 list를 ndarray로 변환한다.\n",
    "# 1 2 3\n",
    "# 4 5 6\n",
    "# 차원을 출력해본다.\n",
    "\n",
    "ndarray2 = np.array([[1, 2, 3], [4, 5, 6]])\n",
    "print(type(ndarray2), ndarray2, sep=\"\\n\")\n",
    "\n",
    "print(ndarray2.shape)\n"
   ]
  },
  {
   "cell_type": "markdown",
   "id": "0994543f-b857-408e-bbca-7eec70163e86",
   "metadata": {},
   "source": [
    "#### astype()\n",
    "- ndarray에 저장된 요소의 타입을 변환시킬 때 사용한다.\n",
    "- 대용량 데이터 처리 시, 메모리 절약을 위해 사용한다."
   ]
  },
  {
   "cell_type": "code",
   "execution_count": 12,
   "id": "4fe76994-0d78-47b7-9130-98065e7587f6",
   "metadata": {},
   "outputs": [
    {
     "name": "stdout",
     "output_type": "stream",
     "text": [
      "<class 'numpy.ndarray'>\n",
      "int32\n",
      "<class 'numpy.ndarray'>\n",
      "int8\n"
     ]
    }
   ],
   "source": [
    "ndarray1 = np.array([1, 2, 3])\n",
    "\n",
    "print(type(ndarray1))\n",
    "print(ndarray1.dtype)\n",
    "\n",
    "ndarray1_int8 = ndarray1.astype(np.int8)\n",
    "\n",
    "print(type(ndarray1_int8))\n",
    "print(ndarray1_int8.dtype)"
   ]
  },
  {
   "cell_type": "code",
   "execution_count": 17,
   "id": "84c3ebd2-9775-47cf-9be5-d10c960ebd85",
   "metadata": {},
   "outputs": [
    {
     "name": "stdout",
     "output_type": "stream",
     "text": [
      "<class 'numpy.ndarray'>\n",
      "int32\n",
      "<class 'numpy.ndarray'>\n",
      "float16\n",
      "[4. 5. 6.]\n",
      "(3,)\n"
     ]
    }
   ],
   "source": [
    "# 4, 5, 6을 ndarray에 담는다\n",
    "# dtype을 확인한 뒤 float16으로 변경시키고 확인한다.\n",
    "\n",
    "ndarray1 = np.array([4, 5, 6])\n",
    "\n",
    "print(type(ndarray1))\n",
    "print(ndarray1.dtype)\n",
    "\n",
    "ndarray1_float16 = ndarray1.astype(np.float16)\n",
    "\n",
    "print(type(ndarray1_float16))\n",
    "print(ndarray1_float16.dtype)\n",
    "print(ndarray1_float16)\n",
    "print(ndarray1_float16.shape)"
   ]
  },
  {
   "cell_type": "markdown",
   "id": "8bd3534d-5013-4b30-928a-1e7162507f08",
   "metadata": {},
   "source": [
    "#### axis\n",
    "- 축의 방향성을 표현할 때, axis로 표현할 수 있다.\n",
    "\n",
    "<img src=\"./images/numpy2.png\" width=\"500px\" style=\"margin-left: 10px\">"
   ]
  },
  {
   "cell_type": "markdown",
   "id": "f646b61c-38ac-419e-a2a1-eeb31b85ce51",
   "metadata": {},
   "source": [
    "#### arange(), zeros(), ones()\n",
    "- ndarray의 요소를 원하는 범위의 연속값, 0 또는 1로 초기화 할 때 사용한다."
   ]
  },
  {
   "cell_type": "code",
   "execution_count": 28,
   "id": "a5048c6c-ed9e-4c4d-b030-a04c425f1970",
   "metadata": {},
   "outputs": [
    {
     "name": "stdout",
     "output_type": "stream",
     "text": [
      "int32 (10,)\n",
      "[0 1 2 3 4 5 6 7 8 9]\n",
      "float64 (2, 3)\n",
      "[[0. 0. 0.]\n",
      " [0. 0. 0.]]\n",
      "[1 1 1]\n"
     ]
    }
   ],
   "source": [
    "# 0~9 까지 1차원 ndarray\n",
    "ndarray1 = np.arange(0, 10)\n",
    "\n",
    "print(ndarray1.dtype, ndarray1.shape)\n",
    "print(ndarray1)\n",
    "\n",
    "# 2행 3열 요소 모두 0으로 초기화\n",
    "ndarray2 = np.zeros((2, 3))\n",
    "\n",
    "print(ndarray2.dtype, ndarray2.shape)\n",
    "print(ndarray2)\n",
    "\n",
    "# 1차원 3칸 배열 요소 모두 1로 초기화\n",
    "# zeros와 ones의 파라미터에 dtype을 전달하면 형변환\n",
    "# ndarray1 = np.ones(3)\n",
    "ndarray1 = np.ones((3,), dtype=np.int16)\n",
    "\n",
    "print(ndarray1)\n"
   ]
  },
  {
   "cell_type": "markdown",
   "id": "af78b689-5086-4b21-aeb2-51f52050ef6a",
   "metadata": {},
   "source": [
    "### reshape()\n",
    "- ndarray의 기존 shape를 다른 shape로 변경한다."
   ]
  },
  {
   "cell_type": "code",
   "execution_count": 38,
   "id": "88449a2d-37d5-429c-ba01-3f1124b9ab0a",
   "metadata": {},
   "outputs": [
    {
     "name": "stdout",
     "output_type": "stream",
     "text": [
      "(8,)\n",
      "[0 1 2 3 4 5 6 7]\n",
      "==============================\n",
      "(2, 4)\n",
      "[[0 1 2 3]\n",
      " [4 5 6 7]]\n",
      "==============================\n",
      "(4, 2)\n",
      "[[0 1]\n",
      " [2 3]\n",
      " [4 5]\n",
      " [6 7]]\n",
      "==============================\n",
      "(8, 1)\n",
      "[[0]\n",
      " [1]\n",
      " [2]\n",
      " [3]\n",
      " [4]\n",
      " [5]\n",
      " [6]\n",
      " [7]]\n",
      "==============================\n"
     ]
    }
   ],
   "source": [
    "ndarray1 = np.arange(8)\n",
    "print(ndarray1.shape)\n",
    "print(ndarray1)\n",
    "\n",
    "print(\"=\" * 30)\n",
    "\n",
    "ndarray2 = ndarray1.reshape((2, 4))\n",
    "print(ndarray2.shape)\n",
    "print(ndarray2)\n",
    "\n",
    "print(\"=\" * 30)\n",
    "\n",
    "# -1을 넣으면 자동으로 배열이 만들어진다\n",
    "ndarray2 = ndarray2.reshape((-1, 2))\n",
    "print(ndarray2.shape)\n",
    "print(ndarray2)\n",
    "\n",
    "print(\"=\" * 30)\n",
    "\n",
    "ndarray2 = ndarray2.reshape((8, -1))\n",
    "print(ndarray2.shape)\n",
    "print(ndarray2)\n",
    "\n",
    "print(\"=\" * 30)"
   ]
  },
  {
   "cell_type": "markdown",
   "id": "65d51586-cd2e-478f-a1a3-72ac416ffa4a",
   "metadata": {},
   "source": [
    "#### Indexing\n",
    "- 특정 위치의 데이터를 가져오는 것\n",
    "- 위치 인덱싱(Location indexing)\n",
    "- 슬라이싱(Slicing)\n",
    "- 팬시 인덱싱(Fancy indexing)\n",
    "- 불린 인덱싱(Boolean indexing)"
   ]
  },
  {
   "cell_type": "code",
   "execution_count": 48,
   "id": "c970cd8f-4175-467e-b8d1-8d522edea4ee",
   "metadata": {},
   "outputs": [
    {
     "name": "stdout",
     "output_type": "stream",
     "text": [
      "(9,)\n",
      "[ 2  3  4  5  6  7  8  9 10]\n",
      "4 <class 'numpy.int32'>\n",
      "10 <class 'numpy.int32'>\n",
      "[  2   3   4   5   6   7   8   9 100]\n",
      "9\n"
     ]
    }
   ],
   "source": [
    "# 1차원 위치 인덱싱: 전달한 위치(인덱스) 값 한 개 추출\n",
    "\n",
    "# 2부터 10까지 순서대로 요소를 갖는 1차원  ndarray\n",
    "ndarray1 = np.arange(start=2, stop=11)\n",
    "print(ndarray1.shape)\n",
    "print(ndarray1)\n",
    "\n",
    "data = ndarray1[2]\n",
    "print(data, type(data))\n",
    "\n",
    "data = ndarray1[-1]\n",
    "print(data, type(data))\n",
    "\n",
    "ndarray1[-1] = 100\n",
    "print(ndarray1)\n",
    "\n",
    "# 가져오기\n",
    "\n",
    "data = ndarray1[-2]\n",
    "print(data)"
   ]
  },
  {
   "cell_type": "code",
   "execution_count": 58,
   "id": "34b1da02-b7c7-47e1-af19-768ae41beb34",
   "metadata": {},
   "outputs": [
    {
     "name": "stdout",
     "output_type": "stream",
     "text": [
      "(9,)\n",
      "[1 2 3 4 5 6 7 8 9]\n",
      "[[1 2 3]\n",
      " [4 5 6]\n",
      " [7 8 9]]\n",
      "4\n",
      "[1 2 3]\n"
     ]
    }
   ],
   "source": [
    "# 2차원 위치 인덱싱: 전달한 위치(인덱스) 값 한 개 추출\n",
    "\n",
    "# 1~9까지 1차원 ndarray 생성\n",
    "# 2차원 3행으로 변경\n",
    "\n",
    "ndarray1 = np.arange(start=1, stop=10)\n",
    "print(ndarray1.shape)\n",
    "print(ndarray1)\n",
    "\n",
    "ndarray2 = ndarray1.reshape((3, -1))\n",
    "print(ndarray2)\n",
    "\n",
    "print(ndarray2[1, 0])\n",
    "print(ndarray2[0])\n"
   ]
  },
  {
   "cell_type": "code",
   "execution_count": 61,
   "id": "52736d65-4fd1-4c32-9e30-2e90a2d10810",
   "metadata": {},
   "outputs": [
    {
     "name": "stdout",
     "output_type": "stream",
     "text": [
      "[2 4 6 8]\n",
      "[2 4 6]\n",
      "[2 4 6 8]\n",
      "[2 4 6] 8\n"
     ]
    }
   ],
   "source": [
    "# 1차원 슬라이싱: 시작 위치와 종료 위치에 해당하는 ndarray를 추출\n",
    "\n",
    "ndarray1 = np.arange(start=2, stop=10, step=2)\n",
    "print(ndarray1)\n",
    "\n",
    "print(ndarray1[:3])\n",
    "print(ndarray1[:])\n",
    "print(ndarray1[:-1], ndarray1[-1])"
   ]
  },
  {
   "cell_type": "code",
   "execution_count": 67,
   "id": "5fd15e6c-0521-4c79-a10a-26fc6ae0574b",
   "metadata": {},
   "outputs": [
    {
     "name": "stdout",
     "output_type": "stream",
     "text": [
      "[ 1  2  3  4  5  6  7  8  9 10 11 12 13 14 15 16 17 18 19 20 21 22 23 24\n",
      " 25 26 27]\n",
      "==============================\n",
      "[[ 1  2  3]\n",
      " [ 4  5  6]\n",
      " [ 7  8  9]\n",
      " [10 11 12]\n",
      " [13 14 15]\n",
      " [16 17 18]\n",
      " [19 20 21]\n",
      " [22 23 24]\n",
      " [25 26 27]]\n",
      "==============================\n",
      "[[1 2]\n",
      " [4 5]\n",
      " [7 8]]\n",
      "==============================\n",
      "[[13 14 15]\n",
      " [16 17 18]\n",
      " [19 20 21]\n",
      " [22 23 24]\n",
      " [25 26 27]]\n",
      "==============================\n",
      "[[25 26 27]\n",
      " [22 23 24]\n",
      " [19 20 21]\n",
      " [16 17 18]\n",
      " [13 14 15]\n",
      " [10 11 12]\n",
      " [ 7  8  9]\n",
      " [ 4  5  6]\n",
      " [ 1  2  3]]\n",
      "==============================\n",
      "[[27 26 25]\n",
      " [24 23 22]\n",
      " [21 20 19]\n",
      " [18 17 16]\n",
      " [15 14 13]\n",
      " [12 11 10]\n",
      " [ 9  8  7]\n",
      " [ 6  5  4]\n",
      " [ 3  2  1]]\n"
     ]
    }
   ],
   "source": [
    "# 2차원 슬라이싱: 시작 위치와 종료 위치에 해당하는 ndarray를 추출\n",
    "\n",
    "ndarray1 = np.arange(start=1, stop=28)\n",
    "print(ndarray1)\n",
    "\n",
    "print(\"=\" * 30)\n",
    "\n",
    "ndarray2 = ndarray1.reshape((-1, 3))\n",
    "print(ndarray2)\n",
    "\n",
    "print(\"=\" * 30)\n",
    "\n",
    "print(ndarray2[:3, :2])\n",
    "\n",
    "print(\"=\" * 30)\n",
    "\n",
    "print(ndarray2[4:9])\n",
    "\n",
    "print(\"=\" * 30)\n",
    "\n",
    "print(ndarray2[::-1])\n",
    "\n",
    "print(\"=\" * 30)\n",
    "\n",
    "print(ndarray2[::-1, ::-1])"
   ]
  },
  {
   "cell_type": "code",
   "execution_count": 70,
   "id": "b997ec76-11eb-429a-af9c-cccf6dbea4a3",
   "metadata": {},
   "outputs": [
    {
     "name": "stdout",
     "output_type": "stream",
     "text": [
      "[[ 1  2  3  4  5]\n",
      " [ 6  7  8  9 10]\n",
      " [11 12 13 14 15]\n",
      " [16 17 18 19 20]]\n",
      "==============================\n"
     ]
    },
    {
     "data": {
      "text/plain": [
       "array([[ 3,  4,  5],\n",
       "       [ 8,  9, 10],\n",
       "       [18, 19, 20]])"
      ]
     },
     "execution_count": 70,
     "metadata": {},
     "output_type": "execute_result"
    }
   ],
   "source": [
    "# 팬시 인덱싱: list를 전달해서 한 번에 여러 요소를 추출한다.\n",
    "\n",
    "ndarray1 = np.arange(start=1, stop=21)\n",
    "ndarray2 = ndarray1.reshape((4, -1))\n",
    "print(ndarray2)\n",
    "\n",
    "print(\"=\" * 30)\n",
    "\n",
    "ndarray2[[0, 1, 3], 2:5]"
   ]
  },
  {
   "cell_type": "code",
   "execution_count": 73,
   "id": "64367a21-02e7-4e86-9e40-919fa8758fe5",
   "metadata": {},
   "outputs": [
    {
     "data": {
      "text/plain": [
       "array([ 10,  25,  40,  55,  70,  85, 100])"
      ]
     },
     "execution_count": 73,
     "metadata": {},
     "output_type": "execute_result"
    }
   ],
   "source": [
    "# 불린 인덱싱: True인 위치의 ndarray 추출\n",
    "\n",
    "ndarray1 = np.arange(start=1, stop=101, step=3)\n",
    "ndarray1[ndarray1 % 5 == 0]"
   ]
  },
  {
   "cell_type": "markdown",
   "id": "099c2271-a7bd-4a7f-b06d-144c05be1ec7",
   "metadata": {},
   "source": [
    "#### Sorting\n",
    "- 모두 오름차순 정렬이며, 내림차순은 오름차순 정렬 후 [::-1]을 붙여 사용한다."
   ]
  },
  {
   "cell_type": "code",
   "execution_count": 74,
   "id": "6b1aaf43-e1ed-4d94-89b7-5c6ffedd3884",
   "metadata": {},
   "outputs": [
    {
     "name": "stdout",
     "output_type": "stream",
     "text": [
      "원본배열: [0 4 2 5]\n",
      "오름차순으로 정렬된 배열: [0 2 4 5]\n",
      "내림차순으로 정렬된 배열: [5 4 2 0]\n"
     ]
    }
   ],
   "source": [
    "# np.sort(ndarray)\n",
    "\n",
    "original_ndarray = np.array([0, 4, 2, 5])\n",
    "sorted_ndarray = np.sort(original_ndarray)\n",
    "\n",
    "print(f'원본배열: {original_ndarray}')\n",
    "print(f'오름차순으로 정렬된 배열: {sorted_ndarray}')\n",
    "print(f'내림차순으로 정렬된 배열: {sorted_ndarray[::-1]}')"
   ]
  },
  {
   "cell_type": "code",
   "execution_count": 77,
   "id": "c2fe575f-021a-4320-ae6a-0ff10f1db18f",
   "metadata": {},
   "outputs": [
    {
     "name": "stdout",
     "output_type": "stream",
     "text": [
      "원본\n",
      "[[20 18 16 14 12]\n",
      " [10  8  6  4  2]]\n",
      "axis=0 정렬\n",
      "[[10  8  6  4  2]\n",
      " [20 18 16 14 12]]\n",
      "axis=1 정렬\n",
      "[[12 14 16 18 20]\n",
      " [ 2  4  6  8 10]]\n"
     ]
    }
   ],
   "source": [
    "# np.sort(ndarray, axis=n)\n",
    "\n",
    "ndarray1 = np.array([i for i in range(20, 0, -2)])\n",
    "ndarray2 = ndarray1.reshape((2, -1))\n",
    "print(f\"원본\\n{ndarray2}\")\n",
    "\n",
    "sorted_ndarray_axis0 = np.sort(ndarray2, axis=0)\n",
    "print(f\"axis=0 정렬\\n{sorted_ndarray_axis0}\")\n",
    "\n",
    "sorted_ndarray_axis1 = np.sort(ndarray2, axis=1)\n",
    "print(f\"axis=1 정렬\\n{sorted_ndarray_axis1}\")"
   ]
  },
  {
   "cell_type": "code",
   "execution_count": 81,
   "id": "bacf0235-38e7-4dde-9a45-11a888c40280",
   "metadata": {},
   "outputs": [
    {
     "name": "stdout",
     "output_type": "stream",
     "text": [
      "정렬 후 원본 인덱스: [0 2 1 3]\n",
      "오름차순으로 정렬된 ndarray: [0 2 3 6]\n"
     ]
    }
   ],
   "source": [
    "# np.argsort(ndarray)\n",
    "\n",
    "original_ndarray = np.array([0, 3, 2, 6])\n",
    "sorted_indices = np.argsort(original_ndarray)\n",
    "\n",
    "print(f\"정렬 후 원본 인덱스: {sorted_indices}\")\n",
    "\n",
    "sorted_ndarray = original_ndarray[sorted_indices]\n",
    "print(f\"오름차순으로 정렬된 ndarray: {sorted_ndarray}\")"
   ]
  },
  {
   "cell_type": "code",
   "execution_count": 87,
   "id": "cb424a10-4a7d-4dae-9722-eae77a9abf36",
   "metadata": {},
   "outputs": [
    {
     "name": "stdout",
     "output_type": "stream",
     "text": [
      "<class 'numpy.float64'>\n",
      "[0 1 3 2 4]\n",
      "['Lamborghini' 'Mclaren' 'Bentley' 'Benz' 'The New Morning']\n"
     ]
    }
   ],
   "source": [
    "# 제로백이 빠른 순으로 자동차 이름 정렬하기\n",
    "\n",
    "cars = np.array(['Lamborghini', 'Mclaren', 'Benz', 'Bentley', 'The New Morning'])\n",
    "zero100 = np.array([2.8, 2.9, 5.2, 3.7, 13.5])\n",
    "\n",
    "# zero100순으로 정렬\n",
    "# sorted_zero100 = np.argsort(zero100)\n",
    "# arfsort()는 같은 numpy엔 다 사용가능\n",
    "print(type(zero100[1]))\n",
    "sorted_zero100 = zero100.argsort()\n",
    "# [0 1 3 2 4]\n",
    "print(sorted_zero100)\n",
    "\n",
    "# zero100순으로 정렬된 인덱스를 cars에 fancy indexing\n",
    "print(cars[sorted_zero100])"
   ]
  },
  {
   "cell_type": "markdown",
   "id": "7270ec32-9a42-4b68-be9d-b9f3b9cfd23c",
   "metadata": {},
   "source": [
    "### 벡터\n",
    "- 데이터 과학에서 벡터란 숫자 자료를 나열한 것을 의미한다.\n",
    "- 벡터는 공간에서 한 점을 나타낸다.\n",
    "- feature 1개당 1차원이고, feature가 3개면 3차원이다.\n",
    "- 이 때, 1차원 좌표평명에서는 열벡터를 표현할 수 있으며, 2차원 좌표평면에서는 2열 데이터를 표현할 수 있게 된다."
   ]
  },
  {
   "cell_type": "markdown",
   "id": "7c523807-047f-4495-8e8c-7c8fde59a312",
   "metadata": {},
   "source": [
    "#### 내적 (Dot product)\r\n",
    "- 두 벡터의 성분들의 곱의 합\r\n",
    "\r\n",
    "<img src=\"./images/dot_product.png\" width=\"500px\" style=\"margin-left: 10px\">"
   ]
  },
  {
   "cell_type": "markdown",
   "id": "e677021e-99ec-4c23-9e43-69ea2b88301e",
   "metadata": {},
   "source": [
    "#### 선형대수 (Linear Algebra)\r\n",
    "- 선형 방정식을 풀기 위해 배우는 학문이다.\r\n",
    "- 4x = 16일 경우, 좌항의 4를 우항으로 넘겨서 x라는 것을 구할 수 있고,\r\n",
    "  방정식 1개만으로 해를 구할 수 있다.\r\n",
    "- y = 2x + 5일 경우, 미지수가 2개이기 때문에 방정식이 2개 필요하다.\r\n",
    "- 이러한 연립 방정식을 표현할 때 쉽게 표현하기 위해서 선형대수를 배운다."
   ]
  },
  {
   "cell_type": "code",
   "execution_count": 1,
   "id": "ac345bd9-3b57-4e74-bb6b-a3a0afcd6621",
   "metadata": {},
   "outputs": [
    {
     "name": "stdout",
     "output_type": "stream",
     "text": [
      "[[1 2]\n",
      " [3 4]]\n",
      "[[5]\n",
      " [6]]\n",
      "[[17]\n",
      " [39]]\n"
     ]
    }
   ],
   "source": [
    "import numpy as np\n",
    "\n",
    "A = np.array([1, 2, 3, 4]).reshape((2, 2))\n",
    "w = np.array([5, 6]).reshape((2, 1))\n",
    "\n",
    "print(A, w, sep=\"\\n\")\n",
    "print(np.dot(A, w))\n",
    "\n",
    "# 수학적으로는 연립방정식으로 풀어야하는걸 numpy 라이브러리를 사용해서 쉽게 해를 구해준다.\n",
    "# k1 = x1w1 + x2w2, k2 = y1w1 + y2w2 를 위처럼 쉽게 써서 풀어줌"
   ]
  },
  {
   "cell_type": "code",
   "execution_count": 2,
   "id": "c39a74b8-3cd4-4288-9594-8f591388df74",
   "metadata": {},
   "outputs": [
    {
     "name": "stdout",
     "output_type": "stream",
     "text": [
      "[[8.]\n",
      " [2.]]\n"
     ]
    }
   ],
   "source": [
    "# x + y = 10\n",
    "# 2x - 3y = 10\n",
    "\n",
    "# 치환해봅시다\n",
    "# Aw = k\n",
    "\n",
    "A = np.array([[1, 1], [2, -3]])\n",
    "k = np.array([[10, 10]]).T\n",
    "\n",
    "# 역행렬을 구해주는 메소드 np.linalg.inv()\n",
    "w = np.dot(np.linalg.inv(A), k)\n",
    "\n",
    "# x의 해와 y의 해 출력\n",
    "print(w)"
   ]
  },
  {
   "cell_type": "code",
   "execution_count": 3,
   "id": "14e844a8-04a0-42ac-a112-0d36ed9ed9f2",
   "metadata": {},
   "outputs": [
    {
     "name": "stdout",
     "output_type": "stream",
     "text": [
      "[[ 8.]\n",
      " [-2.]\n",
      " [-1.]]\n"
     ]
    }
   ],
   "source": [
    "# 3차원\n",
    "# x + 2y + 3z = 1\n",
    "# x + 2y + z = 3\n",
    "# x + 3z = 5\n",
    "\n",
    "A = np.array([[1, 2, 3], [1, 2, 1], [1, 0, 3]])\n",
    "k = np.array([[1, 3, 5]]).T\n",
    "\n",
    "w = np.dot(np.linalg.inv(A), k)\n",
    "\n",
    "print(w)"
   ]
  },
  {
   "cell_type": "markdown",
   "id": "3c887770-3418-4726-b229-3b002bd93b38",
   "metadata": {},
   "source": [
    "#### 과결정계 (Overdetermined system)\n",
    "- 미지수보다 많은 방정식이 있는 연립방정식으로서 보통 해가 존재하지 않는다.\n",
    "- 3차원 공간에 존재하는 2차원 평면에서 3차원 공간의 해를 구할 수 없기 때문에, 3차원을 2차원으로 축소해야하고, 이 때 투영이 필요하다.\n",
    "- 투영시, 원본 값에서 어느정도의 loss(손실)이 발생하지만 이를 감안하고 근사값을 구한다."
   ]
  },
  {
   "cell_type": "code",
   "execution_count": null,
   "id": "bba93ec0-8d30-41d3-869c-65e613f8b387",
   "metadata": {},
   "outputs": [],
   "source": []
  },
  {
   "cell_type": "code",
   "execution_count": null,
   "id": "f26ac457-2375-4200-9cc3-0ebbbf0a6317",
   "metadata": {},
   "outputs": [],
   "source": []
  },
  {
   "cell_type": "code",
   "execution_count": null,
   "id": "e5e8d022-07af-4f87-b95f-9cc1e5efe1c7",
   "metadata": {},
   "outputs": [],
   "source": []
  }
 ],
 "metadata": {
  "kernelspec": {
   "display_name": "Python 3 (ipykernel)",
   "language": "python",
   "name": "python3"
  },
  "language_info": {
   "codemirror_mode": {
    "name": "ipython",
    "version": 3
   },
   "file_extension": ".py",
   "mimetype": "text/x-python",
   "name": "python",
   "nbconvert_exporter": "python",
   "pygments_lexer": "ipython3",
   "version": "3.11.8"
  }
 },
 "nbformat": 4,
 "nbformat_minor": 5
}
